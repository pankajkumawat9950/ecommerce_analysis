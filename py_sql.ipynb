{
 "cells": [
  {
   "cell_type": "code",
   "execution_count": 1,
   "id": "b06ccdc0-fe06-40be-bfe6-ec3a7830df28",
   "metadata": {},
   "outputs": [
    {
     "name": "stdout",
     "output_type": "stream",
     "text": [
      "[✓] Imported: customers.csv into `customers`\n",
      "[✓] Imported: orders.csv into `orders`\n",
      "[✓] Imported: order_items.csv into `order_items`\n",
      "[✓] Imported: sellers.csv into `sellers`\n",
      "[✓] Imported: products.csv into `products`\n",
      "[✓] Imported: geolocation.csv into `geolocation`\n",
      "[✓] Imported: payments.csv into `payments`\n",
      "\n",
      "All files imported successfully.\n"
     ]
    }
   ],
   "source": [
    "import pandas as pd\n",
    "import pymysql\n",
    "import os\n",
    "\n",
    "# List of CSV files and their corresponding MySQL table names\n",
    "csv_files = [\n",
    "    ('customers.csv', 'customers'),\n",
    "    ('orders.csv', 'orders'),\n",
    "    ('order_items.csv', 'order_items'),\n",
    "    ('sellers.csv', 'sellers'),\n",
    "    ('products.csv', 'products'),\n",
    "    ('geolocation.csv', 'geolocation'),\n",
    "    ('payments.csv', 'payments')\n",
    "]\n",
    "\n",
    "# Connect to the MySQL database using pymysql\n",
    "conn = pymysql.connect(\n",
    "    host='localhost',\n",
    "    user='root',\n",
    "    password='pankaj1234',\n",
    "    database='ecom'\n",
    ")\n",
    "cursor = conn.cursor()\n",
    "\n",
    "# Path to folder containing the CSV files\n",
    "folder_path = 'C:/Users/j s/Desktop/JN/E. Com'\n",
    "\n",
    "# Helper function to map pandas dtypes to SQL types\n",
    "def get_sql_type(dtype):\n",
    "    if pd.api.types.is_integer_dtype(dtype):\n",
    "        return 'INT'\n",
    "    elif pd.api.types.is_float_dtype(dtype):\n",
    "        return 'FLOAT'\n",
    "    elif pd.api.types.is_bool_dtype(dtype):\n",
    "        return 'BOOLEAN'\n",
    "    elif pd.api.types.is_datetime64_any_dtype(dtype):\n",
    "        return 'DATETIME'\n",
    "    else:\n",
    "        return 'TEXT'\n",
    "\n",
    "# Process each CSV and insert into MySQL\n",
    "for csv_file, table_name in csv_files:\n",
    "    file_path = os.path.join(folder_path, csv_file)\n",
    "    \n",
    "    # Read CSV into DataFrame\n",
    "    df = pd.read_csv(file_path)\n",
    "\n",
    "    # Clean column names\n",
    "    df.columns = [col.strip().replace(' ', '_').replace('-', '_').replace('.', '_') for col in df.columns]\n",
    "\n",
    "    # Replace NaN with None for SQL NULL compatibility\n",
    "    df = df.where(pd.notnull(df), None)\n",
    "\n",
    "    # Generate and execute CREATE TABLE query\n",
    "    columns = ', '.join([f'`{col}` {get_sql_type(df[col].dtype)}' for col in df.columns])\n",
    "    create_query = f'CREATE TABLE IF NOT EXISTS `{table_name}` ({columns})'\n",
    "    cursor.execute(create_query)\n",
    "\n",
    "    # Insert records row-by-row\n",
    "    for _, row in df.iterrows():\n",
    "        values = tuple(None if pd.isna(x) else x for x in row)\n",
    "        placeholders = ', '.join(['%s'] * len(values))\n",
    "        columns_formatted = ', '.join([f'`{col}`' for col in df.columns])\n",
    "        insert_query = f'INSERT INTO `{table_name}` ({columns_formatted}) VALUES ({placeholders})'\n",
    "        cursor.execute(insert_query, values)\n",
    "    \n",
    "    # Commit after each file\n",
    "    conn.commit()\n",
    "    print(f\"[✓] Imported: {csv_file} into `{table_name}`\")\n",
    "\n",
    "# Close connection\n",
    "cursor.close()\n",
    "conn.close()\n",
    "print(\"\\nAll files imported successfully.\")\n"
   ]
  },
  {
   "cell_type": "code",
   "execution_count": null,
   "id": "a99ea5f2-1451-4898-944b-7e210f5141fd",
   "metadata": {},
   "outputs": [],
   "source": []
  }
 ],
 "metadata": {
  "kernelspec": {
   "display_name": "Python 3 (ipykernel)",
   "language": "python",
   "name": "python3"
  },
  "language_info": {
   "codemirror_mode": {
    "name": "ipython",
    "version": 3
   },
   "file_extension": ".py",
   "mimetype": "text/x-python",
   "name": "python",
   "nbconvert_exporter": "python",
   "pygments_lexer": "ipython3",
   "version": "3.13.5"
  },
  "widgets": {
   "application/vnd.jupyter.widget-state+json": {
    "state": {},
    "version_major": 2,
    "version_minor": 0
   }
  }
 },
 "nbformat": 4,
 "nbformat_minor": 5
}
